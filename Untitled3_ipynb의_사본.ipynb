{
  "nbformat": 4,
  "nbformat_minor": 0,
  "metadata": {
    "colab": {
      "provenance": [],
      "toc_visible": true,
      "authorship_tag": "ABX9TyMNx825ejrjyyN9v2dkUbQO",
      "include_colab_link": true
    },
    "kernelspec": {
      "name": "python3",
      "display_name": "Python 3"
    },
    "language_info": {
      "name": "python"
    }
  },
  "cells": [
    {
      "cell_type": "markdown",
      "metadata": {
        "id": "view-in-github",
        "colab_type": "text"
      },
      "source": [
        "<a href=\"https://colab.research.google.com/github/Tony20105972/-ai-step-4/blob/main/Untitled3_ipynb%EC%9D%98_%EC%82%AC%EB%B3%B8.ipynb\" target=\"_parent\"><img src=\"https://colab.research.google.com/assets/colab-badge.svg\" alt=\"Open In Colab\"/></a>"
      ]
    },
    {
      "cell_type": "code",
      "source": [
        "from google.colab import drive\n",
        "drive.mount('/content/gdrive/')\n"
      ],
      "metadata": {
        "colab": {
          "base_uri": "https://localhost:8080/"
        },
        "id": "cuiuetJf2uf5",
        "outputId": "b3c084e9-20a4-4751-f7b0-80d96c9d05e7"
      },
      "execution_count": null,
      "outputs": [
        {
          "output_type": "stream",
          "name": "stdout",
          "text": [
            "Mounted at /content/gdrive/\n"
          ]
        }
      ]
    },
    {
      "cell_type": "markdown",
      "source": [],
      "metadata": {
        "id": "fnK7DX2A2S5s"
      }
    },
    {
      "cell_type": "code",
      "source": [],
      "metadata": {
        "id": "RuZY8eoz290L"
      },
      "execution_count": null,
      "outputs": []
    },
    {
      "cell_type": "markdown",
      "source": [
        "# STEP 1: 데이터 준비 ~ STEP 4: 데이터 선별\n",
        "\n",
        "> 인용구 추가\n",
        "\n"
      ],
      "metadata": {
        "id": "ixMiiMGz2tcs"
      }
    },
    {
      "cell_type": "markdown",
      "source": [],
      "metadata": {
        "id": "0tmklpBG23gC"
      }
    },
    {
      "cell_type": "code",
      "source": [
        "import numpy as np\n",
        "import csv\n",
        "import re\n",
        "import matplotlib.pyplot as plt\n",
        "from google.colab import drive\n",
        "\n",
        "drive.mount('/content/drive')\n",
        "\n",
        "movie_path = \"IMDB top 1000.csv\"\n",
        "\n",
        "data_list = []\n",
        "with open(movie_path, \"r\", encoding=\"utf-8\") as f:\n",
        "    reader = csv.reader(f)\n",
        "    header = next(reader)\n",
        "    for row in reader:\n",
        "        data_list.append(row)\n",
        "\n",
        "data_array = np.array(data_list)\n",
        "\n",
        "np.save('/content/drive/MyDrive/imdb_data.npy', data_array)\n",
        "print(\" data_array 저장 완료: /content/drive/MyDrive/imdb_data.npy\")\n",
        "\n",
        "Title_idx = header.index(\"Title\")\n",
        "Genre_idx = header.index(\"Genre\")\n",
        "Rate_idx = header.index(\"Rate\")\n",
        "\n",
        "selected_data = data_array[:, [Title_idx, Genre_idx, Rate_idx]]\n",
        "filtered_data = selected_data[np.any(selected_data == '', axis=1)]\n",
        "\n",
        "print(\"Numpy 형태의 배열:\")\n",
        "print(filtered_data)\n",
        "print(\"데이터 크기:\", filtered_data.shape)\n",
        "print(\"헤더 확인:\", header)\n",
        "\n"
      ],
      "metadata": {
        "colab": {
          "base_uri": "https://localhost:8080/"
        },
        "id": "1etcYlbf0lP6",
        "outputId": "3731a30d-43c5-4df4-ec64-a8afb85fd0dc"
      },
      "execution_count": null,
      "outputs": [
        {
          "output_type": "stream",
          "name": "stdout",
          "text": [
            "Mounted at /content/drive\n",
            " data_array 저장 완료: /content/drive/MyDrive/imdb_data.npy\n",
            "Numpy 형태의 배열:\n",
            "[]\n",
            "데이터 크기: (0, 3)\n",
            "헤더 확인: ['', 'Title', 'Certificate', 'Duration', 'Genre', 'Rate', 'Metascore', 'Description', 'Cast', 'Info']\n"
          ]
        }
      ]
    },
    {
      "cell_type": "code",
      "source": [
        "Genre_idx = header.index(\"Genre\")\n",
        "genre_column = data_array[:, Genre_idx]\n",
        "unique_genres = np.unique(genre_column)\n",
        "for genre in unique_genres:\n",
        "    selected_data = data_array[data_array[:, Genre_idx] == genre]\n",
        "\n",
        "    filtered_data = selected_data[np.any(selected_data == '', axis=1)]\n",
        "\n",
        "    print(f\"장르: {genre}\")\n",
        "    print(filtered_data)\n",
        "    print('-' * 30)\n",
        "\n",
        "\n"
      ],
      "metadata": {
        "colab": {
          "base_uri": "https://localhost:8080/",
          "height": 216
        },
        "id": "uBjRp7aj5Vf5",
        "outputId": "58f83bca-93b9-40e1-9510-2cfbbfc83007"
      },
      "execution_count": null,
      "outputs": [
        {
          "output_type": "error",
          "ename": "NameError",
          "evalue": "name 'header' is not defined",
          "traceback": [
            "\u001b[0;31m---------------------------------------------------------------------------\u001b[0m",
            "\u001b[0;31mNameError\u001b[0m                                 Traceback (most recent call last)",
            "\u001b[0;32m<ipython-input-7-bcc000406546>\u001b[0m in \u001b[0;36m<cell line: 0>\u001b[0;34m()\u001b[0m\n\u001b[0;32m----> 1\u001b[0;31m \u001b[0mGenre_idx\u001b[0m \u001b[0;34m=\u001b[0m \u001b[0mheader\u001b[0m\u001b[0;34m.\u001b[0m\u001b[0mindex\u001b[0m\u001b[0;34m(\u001b[0m\u001b[0;34m\"Genre\"\u001b[0m\u001b[0;34m)\u001b[0m\u001b[0;34m\u001b[0m\u001b[0;34m\u001b[0m\u001b[0m\n\u001b[0m\u001b[1;32m      2\u001b[0m \u001b[0mgenre_column\u001b[0m \u001b[0;34m=\u001b[0m \u001b[0mdata_array\u001b[0m\u001b[0;34m[\u001b[0m\u001b[0;34m:\u001b[0m\u001b[0;34m,\u001b[0m \u001b[0mGenre_idx\u001b[0m\u001b[0;34m]\u001b[0m\u001b[0;34m\u001b[0m\u001b[0;34m\u001b[0m\u001b[0m\n\u001b[1;32m      3\u001b[0m \u001b[0munique_genres\u001b[0m \u001b[0;34m=\u001b[0m \u001b[0mnp\u001b[0m\u001b[0;34m.\u001b[0m\u001b[0munique\u001b[0m\u001b[0;34m(\u001b[0m\u001b[0mgenre_column\u001b[0m\u001b[0;34m)\u001b[0m\u001b[0;34m\u001b[0m\u001b[0;34m\u001b[0m\u001b[0m\n\u001b[1;32m      4\u001b[0m \u001b[0;32mfor\u001b[0m \u001b[0mgenre\u001b[0m \u001b[0;32min\u001b[0m \u001b[0munique_genres\u001b[0m\u001b[0;34m:\u001b[0m\u001b[0;34m\u001b[0m\u001b[0;34m\u001b[0m\u001b[0m\n\u001b[1;32m      5\u001b[0m     \u001b[0mselected_data\u001b[0m \u001b[0;34m=\u001b[0m \u001b[0mdata_array\u001b[0m\u001b[0;34m[\u001b[0m\u001b[0mdata_array\u001b[0m\u001b[0;34m[\u001b[0m\u001b[0;34m:\u001b[0m\u001b[0;34m,\u001b[0m \u001b[0mGenre_idx\u001b[0m\u001b[0;34m]\u001b[0m \u001b[0;34m==\u001b[0m \u001b[0mgenre\u001b[0m\u001b[0;34m]\u001b[0m\u001b[0;34m\u001b[0m\u001b[0;34m\u001b[0m\u001b[0m\n",
            "\u001b[0;31mNameError\u001b[0m: name 'header' is not defined"
          ]
        }
      ]
    }
  ]
}