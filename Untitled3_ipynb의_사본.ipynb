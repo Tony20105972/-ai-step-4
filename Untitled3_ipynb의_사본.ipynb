{
  "nbformat": 4,
  "nbformat_minor": 0,
  "metadata": {
    "colab": {
      "provenance": [],
      "authorship_tag": "ABX9TyOH6pCeU3kTGQx5LYUSox10",
      "include_colab_link": true
    },
    "kernelspec": {
      "name": "python3",
      "display_name": "Python 3"
    },
    "language_info": {
      "name": "python"
    }
  },
  "cells": [
    {
      "cell_type": "markdown",
      "metadata": {
        "id": "view-in-github",
        "colab_type": "text"
      },
      "source": [
        "<a href=\"https://colab.research.google.com/github/Tony20105972/-ai-step-4/blob/main/Untitled3_ipynb%EC%9D%98_%EC%82%AC%EB%B3%B8.ipynb\" target=\"_parent\"><img src=\"https://colab.research.google.com/assets/colab-badge.svg\" alt=\"Open In Colab\"/></a>"
      ]
    },
    {
      "cell_type": "code",
      "source": [
        "from google.colab import drive\n",
        "drive.mount('/content/gdrive/')\n"
      ],
      "metadata": {
        "colab": {
          "base_uri": "https://localhost:8080/"
        },
        "id": "cuiuetJf2uf5",
        "outputId": "b3c084e9-20a4-4751-f7b0-80d96c9d05e7"
      },
      "execution_count": null,
      "outputs": [
        {
          "output_type": "stream",
          "name": "stdout",
          "text": [
            "Mounted at /content/gdrive/\n"
          ]
        }
      ]
    },
    {
      "cell_type": "markdown",
      "source": [
        "# STEP 1: 데이터 준비 ~ STEP 4: 데이터 선별\n",
        "\n",
        "> 인용구 추가\n",
        "\n"
      ],
      "metadata": {
        "id": "ixMiiMGz2tcs"
      }
    },
    {
      "cell_type": "markdown",
      "source": [],
      "metadata": {
        "id": "0tmklpBG23gC"
      }
    },
    {
      "cell_type": "code",
      "source": [
        "import numpy as np\n",
        "import csv\n",
        "import re\n",
        "import matplotlib.pyplot as plt\n",
        "from google.colab import drive\n",
        "\n",
        "drive.mount('/content/drive')\n",
        "\n",
        "movie_path = \"IMDB top 1000.csv\"\n",
        "\n",
        "data_list = []\n",
        "with open(movie_path, \"r\", encoding=\"utf-8\") as f:\n",
        "    reader = csv.reader(f)\n",
        "    header = next(reader)\n",
        "    for row in reader:\n",
        "        data_list.append(row)\n",
        "\n",
        "data_array = np.array(data_list)\n",
        "\n",
        "np.save('/content/drive/MyDrive/imdb_data.npy', data_array)\n",
        "print(\" data_array 저장 완료: /content/drive/MyDrive/imdb_data.npy\")\n",
        "\n",
        "Title_idx = header.index(\"Title\")\n",
        "Genre_idx = header.index(\"Genre\")\n",
        "Rate_idx = header.index(\"Rate\")\n",
        "\n",
        "selected_data = data_array[:, [Title_idx, Genre_idx, Rate_idx]]\n",
        "filtered_data = selected_data[np.any(selected_data == '', axis=1)]\n",
        "\n",
        "print(\"Numpy 형태의 배열:\")\n",
        "print(filtered_data)\n",
        "print(\"데이터 크기:\", filtered_data.shape)\n",
        "print(\"헤더 확인:\", header)\n",
        "\n",
        "import numpy as np\n",
        "\n",
        "\n",
        "Genre_idx = header.index(\"Genre\")\n",
        "Rate_idx = header.index(\"Rate\")\n",
        "\n",
        "Genre_column = data_array[:, Genre_idx]\n",
        "\n",
        "unique_genres = np.unique(Genre_column)\n",
        "\n",
        "for genre in unique_genres:\n",
        "    filtered_ratings = data_array[data_array[:, Genre_idx] == genre, Rate_idx].astype(float)\n",
        "    average_rating = np.mean(filtered_ratings)\n",
        "\n",
        "    print(f\"{genre} 장르의 평균 평점: {average_rating:.2f}\")\n",
        "\n",
        "np.save('/content/drive/MyDrive/imdb_data.npy', data_array)\n",
        "print(\"✅ data_array 저장 완료: /content/drive/MyDrive/imdb_data.npy\")\n",
        "\n",
        "\n",
        "\n"
      ],
      "metadata": {
        "colab": {
          "base_uri": "https://localhost:8080/"
        },
        "id": "1etcYlbf0lP6",
        "outputId": "3e6cb4f0-5edf-4a10-d961-b36ed10ab829"
      },
      "execution_count": 3,
      "outputs": [
        {
          "output_type": "stream",
          "name": "stdout",
          "text": [
            "Drive already mounted at /content/drive; to attempt to forcibly remount, call drive.mount(\"/content/drive\", force_remount=True).\n",
            " data_array 저장 완료: /content/drive/MyDrive/imdb_data.npy\n",
            "Numpy 형태의 배열:\n",
            "[]\n",
            "데이터 크기: (0, 3)\n",
            "헤더 확인: ['', 'Title', 'Certificate', 'Duration', 'Genre', 'Rate', 'Metascore', 'Description', 'Cast', 'Info']\n",
            "Action, Adventure 장르의 평균 평점: 8.30\n",
            "Action, Adventure, Comedy 장르의 평균 평점: 8.03\n",
            "Action, Adventure, Drama 장르의 평균 평점: 8.30\n",
            "Action, Adventure, Fantasy 장르의 평균 평점: 8.16\n",
            "Action, Adventure, Sci-Fi 장르의 평균 평점: 8.14\n",
            "Action, Adventure, Thriller 장르의 평균 평점: 8.00\n",
            "Action, Biography, Crime 장르의 평균 평점: 8.20\n",
            "Action, Biography, Drama 장르의 평균 평점: 8.06\n",
            "Action, Comedy, Crime 장르의 평균 평점: 8.17\n",
            "Action, Comedy, Romance 장르의 평균 평점: 8.20\n",
            "Action, Crime, Comedy 장르의 평균 평점: 8.00\n",
            "Action, Crime, Drama 장르의 평균 평점: 8.10\n",
            "Action, Crime, Thriller 장르의 평균 평점: 8.01\n",
            "Action, Drama 장르의 평균 평점: 8.17\n",
            "Action, Drama, Mystery 장르의 평균 평점: 8.11\n",
            "Action, Drama, Sci-Fi 장르의 평균 평점: 8.20\n",
            "Action, Drama, Sport 장르의 평균 평점: 8.20\n",
            "Action, Drama, Thriller 장르의 평균 평점: 8.03\n",
            "Action, Drama, War 장르의 평균 평점: 8.20\n",
            "Action, Mystery, Thriller 장르의 평균 평점: 8.00\n",
            "Action, Sci-Fi 장르의 평균 평점: 8.60\n",
            "Action, Sci-Fi, Thriller 장르의 평균 평점: 8.10\n",
            "Action, Thriller 장르의 평균 평점: 8.03\n",
            "Adventure, Biography, Drama 장르의 평균 평점: 8.04\n",
            "Adventure, Comedy, Crime 장르의 평균 평점: 8.10\n",
            "Adventure, Comedy, Drama 장르의 평균 평점: 8.20\n",
            "Adventure, Comedy, Fantasy 장르의 평균 평점: 8.20\n",
            "Adventure, Comedy, Sci-Fi 장르의 평균 평점: 8.06\n",
            "Adventure, Drama 장르의 평균 평점: 8.10\n",
            "Adventure, Drama, Fantasy 장르의 평균 평점: 8.01\n",
            "Adventure, Drama, History 장르의 평균 평점: 8.13\n",
            "Adventure, Drama, Musical 장르의 평균 평점: 8.10\n",
            "Adventure, Drama, Sci-Fi 장르의 평균 평점: 8.07\n",
            "Adventure, Drama, Thriller 장르의 평균 평점: 8.07\n",
            "Adventure, Drama, War 장르의 평균 평점: 8.12\n",
            "Adventure, Drama, Western 장르의 평균 평점: 8.20\n",
            "Adventure, Family, Fantasy 장르의 평균 평점: 8.10\n",
            "Adventure, Mystery, Thriller 장르의 평균 평점: 8.30\n",
            "Adventure, Sci-Fi 장르의 평균 평점: 8.30\n",
            "Animation, Action, Adventure 장르의 평균 평점: 8.03\n",
            "Animation, Action, Crime 장르의 평균 평점: 8.00\n",
            "Animation, Action, Drama 장르의 평균 평점: 8.10\n",
            "Animation, Adventure, Comedy 장르의 평균 평점: 8.04\n",
            "Animation, Adventure, Drama 장르의 평균 평점: 8.07\n",
            "Animation, Adventure, Family 장르의 평균 평점: 8.40\n",
            "Animation, Adventure, Fantasy 장르의 평균 평점: 8.25\n",
            "Animation, Biography, Drama 장르의 평균 평점: 8.00\n",
            "Animation, Comedy, Drama 장르의 평균 평점: 8.10\n",
            "Animation, Crime, Mystery 장르의 평균 평점: 8.00\n",
            "Animation, Drama, Family 장르의 평균 평점: 8.10\n",
            "Animation, Drama, Fantasy 장르의 평균 평점: 8.40\n",
            "Animation, Drama, War 장르의 평균 평점: 8.50\n",
            "Animation, Family, Fantasy 장르의 평균 평점: 8.03\n",
            "Biography, Comedy, Drama 장르의 평균 평점: 8.35\n",
            "Biography, Crime, Drama 장르의 평균 평점: 8.28\n",
            "Biography, Drama 장르의 평균 평점: 8.01\n",
            "Biography, Drama, History 장르의 평균 평점: 8.13\n",
            "Biography, Drama, Music 장르의 평균 평점: 8.06\n",
            "Biography, Drama, Sport 장르의 평균 평점: 8.20\n",
            "Biography, Drama, Thriller 장르의 평균 평점: 8.00\n",
            "Comedy 장르의 평균 평점: 8.25\n",
            "Comedy, Crime 장르의 평균 평점: 8.30\n",
            "Comedy, Crime, Drama 장르의 평균 평점: 8.18\n",
            "Comedy, Crime, Romance 장르의 평균 평점: 8.10\n",
            "Comedy, Crime, Sport 장르의 평균 평점: 8.10\n",
            "Comedy, Drama 장르의 평균 평점: 8.05\n",
            "Comedy, Drama, Family 장르의 평균 평점: 8.40\n",
            "Comedy, Drama, Fantasy 장르의 평균 평점: 8.10\n",
            "Comedy, Drama, Music 장르의 평균 평점: 8.00\n",
            "Comedy, Drama, Musical 장르의 평균 평점: 8.10\n",
            "Comedy, Drama, Romance 장르의 평균 평점: 8.07\n",
            "Comedy, Drama, Sci-Fi 장르의 평균 평점: 8.10\n",
            "Comedy, Drama, Thriller 장르의 평균 평점: 8.35\n",
            "Comedy, Drama, War 장르의 평균 평점: 8.25\n",
            "Comedy, Fantasy, Romance 장르의 평균 평점: 8.00\n",
            "Comedy, Music, Romance 장르의 평균 평점: 8.20\n",
            "Comedy, Musical, Romance 장르의 평균 평점: 8.30\n",
            "Comedy, Romance 장르의 평균 평점: 8.12\n",
            "Comedy, War 장르의 평균 평점: 8.20\n",
            "Crime, Drama 장르의 평균 평점: 8.19\n",
            "Crime, Drama, Fantasy 장르의 평균 평점: 8.60\n",
            "Crime, Drama, Film-Noir 장르의 평균 평점: 8.30\n",
            "Crime, Drama, Musical 장르의 평균 평점: 8.00\n",
            "Crime, Drama, Mystery 장르의 평균 평점: 8.25\n",
            "Crime, Drama, Romance 장르의 평균 평점: 8.00\n",
            "Crime, Drama, Sci-Fi 장르의 평균 평점: 8.30\n",
            "Crime, Drama, Thriller 장르의 평균 평점: 8.15\n",
            "Crime, Mystery, Thriller 장르의 평균 평점: 8.40\n",
            "Crime, Thriller 장르의 평균 평점: 8.06\n",
            "Drama 장르의 평균 평점: 8.09\n",
            "Drama, Family 장르의 평균 평점: 8.08\n",
            "Drama, Family, Fantasy 장르의 평균 평점: 8.60\n",
            "Drama, Family, Sport 장르의 평균 평점: 8.25\n",
            "Drama, Fantasy 장르의 평균 평점: 8.15\n",
            "Drama, Fantasy, Horror 장르의 평균 평점: 8.30\n",
            "Drama, Fantasy, Music 장르의 평균 평점: 8.10\n",
            "Drama, Fantasy, War 장르의 평균 평점: 8.20\n",
            "Drama, Film-Noir 장르의 평균 평점: 8.13\n",
            "Drama, History 장르의 평균 평점: 8.05\n",
            "Drama, History, Romance 장르의 평균 평점: 8.10\n",
            "Drama, History, Thriller 장르의 평균 평점: 8.00\n",
            "Drama, Horror 장르의 평균 평점: 8.40\n",
            "Drama, Horror, Thriller 장르의 평균 평점: 8.10\n",
            "Drama, Music 장르의 평균 평점: 8.23\n",
            "Drama, Music, Romance 장르의 평균 평점: 8.10\n",
            "Drama, Musical 장르의 평균 평점: 8.50\n",
            "Drama, Mystery 장르의 평균 평점: 8.30\n",
            "Drama, Mystery, Romance 장르의 평균 평점: 8.11\n",
            "Drama, Mystery, Sci-Fi 장르의 평균 평점: 8.07\n",
            "Drama, Mystery, Thriller 장르의 평균 평점: 8.04\n",
            "Drama, Mystery, War 장르의 평균 평점: 8.35\n",
            "Drama, Romance 장르의 평균 평점: 8.06\n",
            "Drama, Romance, Sci-Fi 장르의 평균 평점: 8.04\n",
            "Drama, Romance, Thriller 장르의 평균 평점: 8.10\n",
            "Drama, Romance, War 장르의 평균 평점: 8.50\n",
            "Drama, Sci-Fi 장르의 평균 평점: 8.25\n",
            "Drama, Sport 장르의 평균 평점: 8.10\n",
            "Drama, Thriller 장르의 평균 평점: 8.05\n",
            "Drama, Thriller, War 장르의 평균 평점: 8.30\n",
            "Drama, War 장르의 평균 평점: 8.18\n",
            "Drama, Western 장르의 평균 평점: 8.23\n",
            "Fantasy, Horror, Mystery 장르의 평균 평점: 8.10\n",
            "Film-Noir, Mystery, Thriller 장르의 평균 평점: 8.10\n",
            "Horror, Mystery, Sci-Fi 장르의 평균 평점: 8.10\n",
            "Horror, Mystery, Thriller 장르의 평균 평점: 8.50\n",
            "Horror, Sci-Fi 장르의 평균 평점: 8.40\n",
            "Mystery, Romance, Thriller 장르의 평균 평점: 8.30\n",
            "Mystery, Sci-Fi, Thriller 장르의 평균 평점: 8.00\n",
            "Mystery, Thriller 장르의 평균 평점: 8.28\n",
            "Western 장르의 평균 평점: 8.53\n",
            "✅ data_array 저장 완료: /content/drive/MyDrive/imdb_data.npy\n"
          ]
        }
      ]
    }
  ]
}