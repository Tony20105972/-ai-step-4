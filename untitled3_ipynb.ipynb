{
  "nbformat": 4,
  "nbformat_minor": 0,
  "metadata": {
    "colab": {
      "provenance": [],
      "authorship_tag": "ABX9TyNUS9FB9chsIsVQQSPhx+EG",
      "include_colab_link": true
    },
    "kernelspec": {
      "name": "python3",
      "display_name": "Python 3"
    },
    "language_info": {
      "name": "python"
    }
  },
  "cells": [
    {
      "cell_type": "markdown",
      "metadata": {
        "id": "view-in-github",
        "colab_type": "text"
      },
      "source": [
        "<a href=\"https://colab.research.google.com/github/Tony20105972/-ai-step-4/blob/main/untitled3_ipynb.ipynb\" target=\"_parent\"><img src=\"https://colab.research.google.com/assets/colab-badge.svg\" alt=\"Open In Colab\"/></a>"
      ]
    },
    {
      "cell_type": "code",
      "source": [
        "from google.colab import drive\n",
        "drive.mount('/content/gdrive/')\n"
      ],
      "metadata": {
        "colab": {
          "base_uri": "https://localhost:8080/"
        },
        "id": "cuiuetJf2uf5",
        "outputId": "b3c084e9-20a4-4751-f7b0-80d96c9d05e7"
      },
      "execution_count": null,
      "outputs": [
        {
          "output_type": "stream",
          "name": "stdout",
          "text": [
            "Mounted at /content/gdrive/\n"
          ]
        }
      ]
    },
    {
      "cell_type": "markdown",
      "source": [
        "# STEP 1: 데이터 준비 ~ STEP 4: 데이터 선별\n",
        "\n",
        "> 인용구 추가\n",
        "\n"
      ],
      "metadata": {
        "id": "ixMiiMGz2tcs"
      }
    },
    {
      "cell_type": "code",
      "source": [
        "\n",
        "import numpy as np\n",
        "import csv\n",
        "import matplotlib.pyplot as plt\n",
        "from google.colab import drive\n",
        "\n",
        "drive.mount('/content/drive')\n",
        "\n",
        "movie_path = \"IMDB top 1000.csv\"\n",
        "\n",
        "data_list = []\n",
        "with open(movie_path, \"r\", encoding=\"utf-8\") as f:\n",
        "    reader = csv.reader(f)\n",
        "    header = next(reader)\n",
        "    for row in reader:\n",
        "        data_list.append(row)\n",
        "\n",
        "data_array = np.array(data_list)\n",
        "\n",
        "np.save('/content/drive/MyDrive/imdb_data.npy', data_array)\n",
        "print(\" data_array 저장 완료: /content/drive/MyDrive/imdb_data.npy\")\n",
        "\n",
        "Title_idx = header.index(\"Title\")\n",
        "Genre_idx = header.index(\"Genre\")\n",
        "Rate_idx = header.index(\"Rate\")\n"
      ],
      "metadata": {
        "id": "Pl3xRO2JNiIk",
        "outputId": "9fb77e64-66ab-4bb2-8d46-4fb5a1689666",
        "colab": {
          "base_uri": "https://localhost:8080/"
        }
      },
      "execution_count": 2,
      "outputs": [
        {
          "output_type": "stream",
          "name": "stdout",
          "text": [
            "Drive already mounted at /content/drive; to attempt to forcibly remount, call drive.mount(\"/content/drive\", force_remount=True).\n",
            " data_array 저장 완료: /content/drive/MyDrive/imdb_data.npy\n"
          ]
        }
      ]
    },
    {
      "cell_type": "markdown",
      "source": [],
      "metadata": {
        "id": "0tmklpBG23gC"
      }
    },
    {
      "cell_type": "code",
      "source": [
        "Genre_column = data_array[:, Genre_idx]\n",
        "\n",
        "all_genres = set()\n",
        "for genres in Genre_column:\n",
        "    all_genres.update([g.strip() for g in genres.split(',')])\n",
        "\n",
        "for genre in all_genres:\n",
        "    filtered_ratings = data_array[[genre in g for g in Genre_column], Rate_idx].astype(float)\n",
        "    average_rating = np.mean(filtered_ratings)\n",
        "    print(f\"{genre} 장르의 평균 평점: {average_rating:.2f}\")\n",
        "\n",
        "np.save('/content/drive/MyDrive/imdb_data.npy', data_array)\n",
        "print(\" data_array 저장 완료: /content/drive/MyDrive/imdb_data.npy\")\n",
        "\n",
        "\n",
        "\n"
      ],
      "metadata": {
        "colab": {
          "base_uri": "https://localhost:8080/"
        },
        "id": "1etcYlbf0lP6",
        "outputId": "a647aaf3-7a81-4684-9477-8e67686d25f5"
      },
      "execution_count": null,
      "outputs": [
        {
          "output_type": "stream",
          "name": "stdout",
          "text": [
            "Drive already mounted at /content/drive; to attempt to forcibly remount, call drive.mount(\"/content/drive\", force_remount=True).\n",
            " data_array 저장 완료: /content/drive/MyDrive/imdb_data.npy\n",
            "War 장르의 평균 평점: 8.21\n",
            "Crime 장르의 평균 평점: 8.12\n",
            "Music 장르의 평균 평점: 8.08\n",
            "Film-Noir 장르의 평균 평점: 8.13\n",
            "Family 장르의 평균 평점: 8.16\n",
            "Comedy 장르의 평균 평점: 8.07\n",
            "Western 장르의 평균 평점: 8.36\n",
            "Mystery 장르의 평균 평점: 8.11\n",
            "Fantasy 장르의 평균 평점: 8.11\n",
            "Horror 장르의 평균 평점: 8.19\n",
            "Biography 장르의 평균 평점: 8.07\n",
            "Animation 장르의 평균 평점: 8.06\n",
            "History 장르의 평균 평점: 8.09\n",
            "Musical 장르의 평균 평점: 8.09\n",
            "Adventure 장르의 평균 평점: 8.09\n",
            "Thriller 장르의 평균 평점: 8.07\n",
            "Sci-Fi 장르의 평균 평점: 8.11\n",
            "Romance 장르의 평균 평점: 8.08\n",
            "Sport 장르의 평균 평점: 8.18\n",
            "Action 장르의 평균 평점: 8.09\n",
            "Drama 장르의 평균 평점: 8.10\n",
            " data_array 저장 완료: /content/drive/MyDrive/imdb_data.npy\n"
          ]
        }
      ]
    }
  ]
}
